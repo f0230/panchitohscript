{
 "cells": [
  {
   "cell_type": "code",
   "execution_count": 516,
   "metadata": {},
   "outputs": [
    {
     "name": "stdout",
     "output_type": "stream",
     "text": [
      "Tu nueva contraseña es: eNE?m5E~]IKrySTV\n"
     ]
    }
   ],
   "source": [
    "import random\n",
    "import string\n",
    "\n",
    "minusculas = string.ascii_lowercase\n",
    "mayusculas = string.ascii_uppercase\n",
    "numeros = string.digits\n",
    "caracteres_especiales = string.punctuation\n",
    "\n",
    "todos_caracteres = minusculas + mayusculas + numeros + caracteres_especiales\n",
    "contraseña = ''.join(random.choices(todos_caracteres, k=16))\n",
    "\n",
    "while not (set(contraseña) & set(minusculas) and\n",
    "        set(contraseña) & set(mayusculas) and\n",
    "        set(contraseña) & set(numeros) and\n",
    "        set(contraseña) & set(caracteres_especiales)):\n",
    "    contraseña = ''.join(random.choices(todos_caracteres, k=16))\n",
    "\n",
    "print(f\"Tu nueva contraseña es: {contraseña}\")\n"
   ]
  },
  {
   "cell_type": "code",
   "execution_count": 514,
   "metadata": {},
   "outputs": [
    {
     "name": "stdout",
     "output_type": "stream",
     "text": [
      "Tu nueva contraseña es: 9y]_`B{wc#e\\}(@X\n"
     ]
    }
   ],
   "source": [
    "import random\n",
    "import string\n",
    "\n",
    "def generar_password(longitud=16):\n",
    "    minusculas = string.ascii_lowercase\n",
    "    mayusculas = string.ascii_uppercase\n",
    "    numeros = string.digits\n",
    "    caracteres_especiales = string.punctuation\n",
    "    \n",
    "    password = [\n",
    "        random.choice(minusculas),\n",
    "        random.choice(mayusculas),\n",
    "        random.choice(numeros),\n",
    "        random.choice(caracteres_especiales)\n",
    "    ]\n",
    "    todos_caracteres = minusculas + mayusculas + numeros + caracteres_especiales\n",
    "    password += random.choices(todos_caracteres, k=longitud - len(password))\n",
    "    \n",
    "    random.shuffle(password)\n",
    "    \n",
    "    return ''.join(password)\n",
    "\n",
    "print(\"Tu nueva contraseña es:\", generar_password())\n"
   ]
  },
  {
   "cell_type": "code",
   "execution_count": 515,
   "metadata": {},
   "outputs": [
    {
     "data": {
      "text/plain": [
       "'abcdefghijklmnopqrstuvwxyzABCDEFGHIJKLMNOPQRSTUVWXYZ0123456789!\"#$%&\\'()*+,-./:;<=>?@[\\\\]^_`{|}~'"
      ]
     },
     "execution_count": 515,
     "metadata": {},
     "output_type": "execute_result"
    }
   ],
   "source": [
    "todos_caracteres"
   ]
  },
  {
   "cell_type": "code",
   "execution_count": 18,
   "metadata": {},
   "outputs": [
    {
     "name": "stdout",
     "output_type": "stream",
     "text": [
      "La longitud de la contraseña debe estar entre 16 y 24 caracteres.\n"
     ]
    },
    {
     "ename": "ValueError",
     "evalue": "invalid literal for int() with base 10: ''",
     "output_type": "error",
     "traceback": [
      "\u001b[0;31m---------------------------------------------------------------------------\u001b[0m",
      "\u001b[0;31mValueError\u001b[0m                                Traceback (most recent call last)",
      "Cell \u001b[0;32mIn[18], line 28\u001b[0m\n\u001b[1;32m     27\u001b[0m \u001b[38;5;28;01mtry\u001b[39;00m:\n\u001b[0;32m---> 28\u001b[0m     contraseña_segura \u001b[38;5;241m=\u001b[39m generar_contraseña_segura(longitud)\n\u001b[1;32m     29\u001b[0m     \u001b[38;5;28mprint\u001b[39m(\u001b[38;5;124mf\u001b[39m\u001b[38;5;124m\"\u001b[39m\u001b[38;5;124mTu nueva contraseña es: \u001b[39m\u001b[38;5;132;01m{\u001b[39;00mcontraseña_segura\u001b[38;5;132;01m}\u001b[39;00m\u001b[38;5;124m\"\u001b[39m)\n",
      "Cell \u001b[0;32mIn[18], line 8\u001b[0m, in \u001b[0;36mgenerar_contraseña_segura\u001b[0;34m(longitud)\u001b[0m\n\u001b[1;32m      7\u001b[0m \u001b[38;5;28;01mif\u001b[39;00m longitud \u001b[38;5;241m<\u001b[39m \u001b[38;5;241m16\u001b[39m \u001b[38;5;129;01mor\u001b[39;00m longitud \u001b[38;5;241m>\u001b[39m \u001b[38;5;241m24\u001b[39m:\n\u001b[0;32m----> 8\u001b[0m     \u001b[38;5;28;01mraise\u001b[39;00m \u001b[38;5;167;01mValueError\u001b[39;00m(\u001b[38;5;124m\"\u001b[39m\u001b[38;5;124mLa longitud de la contraseña debe estar entre 16 y 24 caracteres.\u001b[39m\u001b[38;5;124m\"\u001b[39m)\n\u001b[1;32m     10\u001b[0m minusculas \u001b[38;5;241m=\u001b[39m string\u001b[38;5;241m.\u001b[39mascii_lowercase\n",
      "\u001b[0;31mValueError\u001b[0m: La longitud de la contraseña debe estar entre 16 y 24 caracteres.",
      "\nDuring handling of the above exception, another exception occurred:\n",
      "\u001b[0;31mValueError\u001b[0m                                Traceback (most recent call last)",
      "Cell \u001b[0;32mIn[18], line 32\u001b[0m\n\u001b[1;32m     30\u001b[0m \u001b[38;5;28;01mexcept\u001b[39;00m \u001b[38;5;167;01mValueError\u001b[39;00m \u001b[38;5;28;01mas\u001b[39;00m e:\n\u001b[1;32m     31\u001b[0m     \u001b[38;5;28mprint\u001b[39m(e)\n\u001b[0;32m---> 32\u001b[0m     longitud \u001b[38;5;241m=\u001b[39m \u001b[38;5;28mint\u001b[39m(\u001b[38;5;28minput\u001b[39m(\u001b[38;5;124m\"\u001b[39m\u001b[38;5;124mIngrese la longitud de la contraseña (entre 16 y 24 caracteres): \u001b[39m\u001b[38;5;124m\"\u001b[39m))\n\u001b[1;32m     33\u001b[0m     contraseña_segura \u001b[38;5;241m=\u001b[39m generar_contraseña_segura(longitud)\n\u001b[1;32m     34\u001b[0m     \u001b[38;5;28mprint\u001b[39m(\u001b[38;5;124mf\u001b[39m\u001b[38;5;124m\"\u001b[39m\u001b[38;5;124mTu nueva contraseña es: \u001b[39m\u001b[38;5;132;01m{\u001b[39;00mcontraseña_segura\u001b[38;5;132;01m}\u001b[39;00m\u001b[38;5;124m\"\u001b[39m)\n",
      "\u001b[0;31mValueError\u001b[0m: invalid literal for int() with base 10: ''"
     ]
    }
   ],
   "source": [
    "import random\n",
    "import string\n",
    "\n",
    "longitud = int(input(\"Ingrese la longitud de la contraseña (entre 16 y 24 caracteres): \"))\n",
    "\n",
    "def generar_contraseña_segura(longitud):\n",
    "    if longitud < 16 or longitud > 24:\n",
    "        raise ValueError(\"La longitud de la contraseña debe estar entre 16 y 24 caracteres.\")\n",
    "    \n",
    "    minusculas = string.ascii_lowercase\n",
    "    mayusculas = string.ascii_uppercase\n",
    "    numeros = string.digits\n",
    "    caracteres_especiales = string.punctuation\n",
    "\n",
    "    todos_caracteres = minusculas + mayusculas + numeros + caracteres_especiales\n",
    "    random_gen = random.SystemRandom()\n",
    "\n",
    "\n",
    "    while True:\n",
    "        contraseña = ''.join(random_gen.choices(todos_caracteres, k=longitud))\n",
    "        if (set(contraseña) & set(minusculas) and\n",
    "            set(contraseña) & set(mayusculas) and\n",
    "            set(contraseña) & set(numeros) and\n",
    "            set(contraseña) & set(caracteres_especiales)):\n",
    "            return contraseña\n",
    "\n",
    "try:\n",
    "    contraseña_segura = generar_contraseña_segura(longitud)\n",
    "    print(f\"Tu nueva contraseña es: {contraseña_segura}\")\n",
    "except ValueError as e:\n",
    "    print(e)\n",
    "    while True:\n",
    "        try:\n",
    "            longitud = int(input(\"Ingrese la longitud de la contraseña (entre 16 y 24 caracteres): \"))\n",
    "            contraseña_segura = generar_contraseña_segura(longitud)\n",
    "            print(f\"Tu nueva contraseña es: {contraseña_segura}\")\n",
    "            break\n",
    "        except ValueError as e:\n",
    "            print(e)"
   ]
  }
 ],
 "metadata": {
  "kernelspec": {
   "display_name": "base",
   "language": "python",
   "name": "python3"
  },
  "language_info": {
   "codemirror_mode": {
    "name": "ipython",
    "version": 3
   },
   "file_extension": ".py",
   "mimetype": "text/x-python",
   "name": "python",
   "nbconvert_exporter": "python",
   "pygments_lexer": "ipython3",
   "version": "3.12.4"
  }
 },
 "nbformat": 4,
 "nbformat_minor": 2
}
